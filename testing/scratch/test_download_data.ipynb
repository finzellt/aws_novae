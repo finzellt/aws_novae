{
 "cells": [
  {
   "cell_type": "code",
   "execution_count": 37,
   "id": "785fd370",
   "metadata": {},
   "outputs": [
    {
     "name": "stdout",
     "output_type": "stream",
     "text": [
      "\n",
      "Looking for spectra around target V1324 Sco in a cone of diameter 0.001000 deg.\n",
      "Querying the ESO SSAP service at http://archive.eso.org/ssap\n",
      "The provided target is being resolved by SESAME...\n",
      "SESAME coordinates for V1324 Sco: 267.725 -32.6225\n",
      "Performing a Simple Spectral Access query...\n"
     ]
    }
   ],
   "source": [
    "#!/usr/bin/env python\n",
    "# ------------------------------------------------------------------------------\n",
    "# Python 3 example on how to query by position the ESO SSA service\n",
    "# and retrieve the spectra science files with SNR higher than a given threshold.\n",
    "#\n",
    "# Name: eso_ssa.py\n",
    "# Version: 2018-04-09\n",
    "# \n",
    "# In case of questions, please send an email to: usd-help@eso.org \n",
    "# with the following subject: ASG programmatic access (eso_ssa.py)\n",
    "#\n",
    "# Useful to read: http://www.astropy.org/astropy-tutorials/Coordinates.html\n",
    "# ------------------------------------------------------------------------------\n",
    "\n",
    "import sys\n",
    "\n",
    "import pyvo as vo\n",
    "from astropy.coordinates import SkyCoord\n",
    "from astropy.units import Quantity\n",
    "\n",
    "# --------------------------------------------------\n",
    "# Define the end point and the SSA service to query:\n",
    "# --------------------------------------------------\n",
    "\n",
    "ssap_endpoint = \"http://archive.eso.org/ssap\"\n",
    "\n",
    "ssap_service = vo.dal.SSAService(ssap_endpoint)\n",
    "\n",
    "# A typical SSA invocation: ssap_endpoint + '?' + 'REQUEST=queryData&POS=197.44888,-23.38333&SIZE=0.5'\n",
    "# where\n",
    "#   197.44888 is the right ascension J2000 (decimal degrees),\n",
    "#   -23.38333 is the declination J2000 (decimal degrees),\n",
    "#   0.5       is the diameter of the cone to search in (decimal degrees).\n",
    "# Within astroquery this is achieved by the following lines:\n",
    "#   mytarget = SkyCoord(197.44888, -23.38333, unit='deg')\n",
    "#   mysize   = Quantity(0.5, unit=\"deg\")\n",
    "#   ssap_resultset = ssap_service.search(pos=mytarget, diameter=mysize)\n",
    "# Really the coordinates are ICRS, but for all practical effects when searching, there is no difference with J2000.\n",
    "\n",
    "\n",
    "# --------------------------------------------------\n",
    "# Prepare search parameters\n",
    "# searching by cone around NGC 4993,\n",
    "# with a diameter or 0.5 deg (radius=0.25 deg).\n",
    "# --------------------------------------------------\n",
    "target = \"V1324 Sco\"\n",
    "diameter = 0.001\n",
    "\n",
    "print()\n",
    "print(\"Looking for spectra around target %s in a cone of diameter %f deg.\"   %(target, diameter))\n",
    "print(\"Querying the ESO SSAP service at %s\" %(ssap_endpoint))\n",
    "\n",
    "# --------------------------------------------------\n",
    "# The actual position of the selected target\n",
    "# is queried by the from_name() function,\n",
    "# which queries the CDS SESAME service\n",
    "# (http://cdsweb.u-strasbg.fr/cgi-bin/Sesame).\n",
    "# --------------------------------------------------\n",
    "\n",
    "print(\"The provided target is being resolved by SESAME...\")\n",
    "pos = SkyCoord.from_name(target)\n",
    "size = Quantity(diameter, unit=\"deg\")\n",
    "print(\"SESAME coordinates for %s: %s\" % (target, pos.to_string()))\n",
    "\n",
    "# see: http://docs.astropy.org/en/stable/coordinates/skycoord.html\n",
    "# In case you know better the coordinates, then use:\n",
    "# my_icrs_pos = SkyCoord(197.44888, -23.38333, unit='deg')    \n",
    "#\n",
    "# Or in case you know the galactic coordinates instead:\n",
    "# my_gal_pos=SkyCoord(308.37745107, 39.29423547, frame='galactic', unit='deg')\n",
    "#    in which case you will have to use:\n",
    "# ssap_service.search(pos=my_gal_pos.fk5, diameter=size)\n",
    "#    given that my_fk5_pos = my_gal_pos.fk5\n",
    "\n",
    "# --------------------------------------------------\n",
    "# Query in that defined cone (pos, size):\n",
    "# --------------------------------------------------\n",
    "print(\"Performing a Simple Spectral Access query...\")\n",
    "ssap_resultset = ssap_service.search(pos=pos.fk5, diameter=size)\n",
    "\n",
    "# NOTE: The ESO coordinate system is: FK5. You would not be off by more than 20mas by querying by pos==pos.icrs (or simply pos=pos) instead.\n",
    "\n",
    "# --------------------------------------------------\n",
    "# define the output fields you are interested in;\n",
    "# uppercase fields are the one defined by the SSAP standard as valid input fields\n",
    "# --------------------------------------------------\n",
    "fields = [\"COLLECTION\", \"TARGETNAME\", \"s_ra\", \"s_dec\", \"APERTURE\",\n",
    "          \"em_min\", \"em_max\", \"SPECRP\", \"SNR\", \"t_min\", \"t_max\",\n",
    "          \"CREATORDID\", \"access_url\"]\n"
   ]
  },
  {
   "cell_type": "code",
   "execution_count": null,
   "id": "8e52d969",
   "metadata": {},
   "outputs": [
    {
     "name": "stdout",
     "output_type": "stream",
     "text": [
      "(13440, 'https://dataportal.eso.org/dataPortal/file/ADP.2020-06-09T06:35:43.457', 1.008, 'UVES', 'archival', 'ivo://eso.org/origfile?UV_SOBF_657725_2012-06-04T01:18:44.152_RED760d2_1x1_10.fits', '', 'http://archive.eso.org/datalink/links?ID=ivo://eso.org/ID?ADP.2020-06-09T06:35:43.457', 185847, 'TOO_BulgeDwarf_657725_2012-06-04T01:18:44.152_RED760d2_1x1_10', 'ADP.2020-06-09T06:35:43.457', 3.80888e-07, 9.46394e-07, 5.65506e-07, 7.559499999999999e-07, 2000.0, '', 'absolute', 'application/x-fits-bintable', -2.873129, 357.425227, 'UVES', '2020-10-22T08:34:27.077Z', 'FELTZING, SOFIA', array([267.725 , -32.6231]), 'ivo://eso.org/ID?ADP.2020-06-09T06:35:43.457', '2020-10-20T09:55:47Z', 'ESO', 'public', -32.62309, 267.725219, 'POSITION J2000 267.725219 -32.62309', 153.4, 'FK5', nan, 42310.0, 0.08509704000607599, 7199.997, 56082.13977472, 56082.0972262, 56082.05467768, 'TOO_BulgeDwarf', 'absolute')\n",
      "(6180, 'https://dataportal.eso.org/dataPortal/file/ADP.2020-06-09T06:35:43.500', 1.008, 'UVES', 'archival', 'ivo://eso.org/origfile?UV_SOBF_657725_2012-06-04T01:18:53.834_BLU437d2_1x1_10.fits', '', 'http://archive.eso.org/datalink/links?ID=ivo://eso.org/ID?ADP.2020-06-09T06:35:43.500', 85049, 'TOO_BulgeDwarf_657725_2012-06-04T01:18:53.834_BLU437d2_1x1_10', 'ADP.2020-06-09T06:35:43.500', 1.2676599999999996e-07, 4.99973e-07, 3.73207e-07, 4.3659e-07, 2000.0, '', 'absolute', 'application/x-fits-bintable', -2.873129, 357.425227, 'UVES', '2020-10-22T08:34:27.077Z', 'FELTZING, SOFIA', array([267.725 , -32.6231]), 'ivo://eso.org/ID?ADP.2020-06-09T06:35:43.500', '2020-10-20T09:55:47Z', 'ESO', 'public', -32.62309, 267.725219, 'POSITION J2000 267.725219 -32.62309', 49.4, 'FK5', nan, 40970.0, 0.08499535999726504, 7200.004, 56082.1397851, 56082.09728742, 56082.05478974, 'TOO_BulgeDwarf', 'absolute')\n"
     ]
    }
   ],
   "source": [
    "\n",
    "\n",
    "# for row in ssap_resultset:\n",
    "#     print(row)"
   ]
  },
  {
   "cell_type": "code",
   "execution_count": null,
   "id": "d1bf941f",
   "metadata": {},
   "outputs": [],
   "source": [
    "import os\n",
    "import json\n",
    "import logging\n",
    "import tempfile\n",
    "from pathlib import Path\n",
    "from typing import Dict, Any, List, Optional, Tuple\n",
    "\n",
    "import boto3\n",
    "from botocore.exceptions import ClientError\n",
    "\n",
    "# ---- astroquery imports (ensure your deployment includes these) ----\n",
    "# Modules are imported lazily inside helper functions to keep cold starts reasonable\n",
    "# and to avoid import errors if some modules are missing in the environment.\n",
    "# -------------------------------------------------------------------\n",
    "\n",
    "logger = logging.getLogger()\n",
    "logger.setLevel(logging.INFO)\n",
    "\n",
    "def download_from_eso(primary_name: str, outdir: Path) -> List[Path]:\n",
    "    \"\"\"\n",
    "    ESO archive query by object name and try to download public data products.\n",
    "    Note: downloading raw files may require large bandwidth; we filter for public.\n",
    "    \"\"\"\n",
    "    from astroquery.eso import Eso\n",
    "\n",
    "    eso = Eso()\n",
    "    eso.ROW_LIMIT = 1000\n",
    "    # Only public data—no login:\n",
    "    eso.PUBLIC_ONLY = True\n",
    "\n",
    "    # Generic object query; instrument-specific queries are also available.\n",
    "    try:\n",
    "        tbl = eso.query_object(primary_name)\n",
    "    except Exception as e:\n",
    "        logger.warning(f\"ESO query failed: {e}\")\n",
    "        return []\n",
    "\n",
    "    if tbl is None or len(tbl) == 0:\n",
    "        logger.warning(f\"ESO: no results for {primary_name}\")\n",
    "        return []\n",
    "\n",
    "    # Attempt to download a small subset (e.g., previews or first few files) to keep lambda light.\n",
    "    # You can customize selection by column, e.g., 'dp_id' or 'ARCFILE'\n",
    "    id_col = None\n",
    "    for cand in (\"dp_id\", \"ARCFILE\", \"dp_ref\", \"ID\", \"dataset_id\"):\n",
    "        if cand in tbl.colnames:\n",
    "            id_col = cand\n",
    "            break\n",
    "\n",
    "    if not id_col:\n",
    "        # fall back to saving the table metadata as CSV\n",
    "        meta = outdir / \"eso_results.csv\"\n",
    "        tbl.write(meta, format=\"csv\", overwrite=True)\n",
    "        return [meta]\n",
    "\n",
    "    ids = [str(x) for x in tbl[id_col][:20]]  # limit downloads for Lambda resource constraints\n",
    "    try:\n",
    "        files = eso.retrieve_data(ids, destination=str(outdir))\n",
    "    except Exception as e:\n",
    "        logger.warning(f\"ESO retrieve_data failed: {e}\")\n",
    "        # Save table if download fails\n",
    "        meta = outdir / \"eso_results.csv\"\n",
    "        tbl.write(meta, format=\"csv\", overwrite=True)\n",
    "        return [meta]\n",
    "\n",
    "    return [Path(f) for f in files if f]\n",
    "\n",
    "out_dir = \"/Users/tfinzell/Git/aws_novae/testing/scratch/data_output\"\n"
   ]
  },
  {
   "cell_type": "code",
   "execution_count": 1,
   "id": "d1be33e4",
   "metadata": {},
   "outputs": [
    {
     "name": "stdout",
     "output_type": "stream",
     "text": [
      "\u001b[31mERROR: Could not find a version that satisfies the requirement ESOAsg (from versions: none)\u001b[0m\u001b[31m\n",
      "\u001b[0m\u001b[31mERROR: No matching distribution found for ESOAsg\u001b[0m\u001b[31m\n",
      "\u001b[0m"
     ]
    }
   ],
   "source": [
    "!pip install ESOAsg"
   ]
  },
  {
   "cell_type": "code",
   "execution_count": 2,
   "id": "7a9c6cab",
   "metadata": {},
   "outputs": [],
   "source": [
    "import os \n",
    "import sys\n",
    "\n",
    "import numpy as np\n",
    "\n",
    "from astropy.visualization import astropy_mpl_style\n",
    "\n",
    "from astropy import table\n",
    "from astropy.coordinates import SkyCoord\n",
    "from astropy.units import Quantity\n",
    "\n",
    "from pyvo.dal import tap\n",
    "\n",
    "import matplotlib.pyplot as plt\n",
    "import pandas\n",
    "\n",
    "ESO_TAP_OBS = \"http://archive.eso.org/tap_obs\"\n",
    "\n",
    "tapobs = tap.TAPService(ESO_TAP_OBS)"
   ]
  },
  {
   "cell_type": "code",
   "execution_count": 5,
   "id": "a0c58c59",
   "metadata": {},
   "outputs": [
    {
     "name": "stdout",
     "output_type": "stream",
     "text": [
      "SESAME coordinates for V1324 Sco: 267.725 -32.6225 (truncated to millidegrees)\n",
      "\n",
      "SELECT *\n",
      "FROM ivoa.ObsCore\n",
      "WHERE intersects(s_region, circle('', 267.724622, -32.622525, 0.008333))=1\n",
      "\n"
     ]
    }
   ],
   "source": [
    "# Defining the position via SESAME name resolver, and the search radius\n",
    "target = \"V1324 Sco\"\n",
    "\n",
    "pos = SkyCoord.from_name(target)\n",
    "# pos now contains the coordinates of NGC 4666\n",
    "print(\"SESAME coordinates for %s: %s (truncated to millidegrees)\\n\" % (target, pos.to_string()))\n",
    "\n",
    "sr = 0.5/60. # search radius of 2.5 arcmin, always expressed in degrees\n",
    "\n",
    "# Cone search: looking for footprints of reduced datasets intersecting a circle of 2.5' around V1324 Sco\n",
    "query = \"\"\"SELECT *\n",
    "FROM ivoa.ObsCore\n",
    "WHERE intersects(s_region, circle('', %f, %f, %f))=1\n",
    "\"\"\" % (pos.ra.degree , pos.dec.degree, sr)\n",
    "\n",
    "print(query)"
   ]
  },
  {
   "cell_type": "code",
   "execution_count": 6,
   "id": "81cfc14e",
   "metadata": {},
   "outputs": [
    {
     "name": "stdout",
     "output_type": "stream",
     "text": [
      "Num matching datasets: 468\n"
     ]
    }
   ],
   "source": [
    "res = tapobs.search(query=query, maxrec=1000)\n",
    "print(\"Num matching datasets: %d\" % (len(res)))"
   ]
  },
  {
   "cell_type": "code",
   "execution_count": 7,
   "id": "cc876797",
   "metadata": {},
   "outputs": [
    {
     "data": {
      "text/plain": [
       "<Axes: >"
      ]
     },
     "execution_count": 7,
     "metadata": {},
     "output_type": "execute_result"
    },
    {
     "data": {
      "image/png": "[encoded data removed]",
      "text/plain": [
       "<Figure size 640x480 with 1 Axes>"
      ]
     },
     "metadata": {},
     "output_type": "display_data"
    }
   ],
   "source": [
    "from collections import Counter\n",
    "dp_types = res['dataproduct_type']\n",
    "dp_types_counts = Counter(dp_types)\n",
    "df = pandas.DataFrame.from_dict(dp_types_counts, orient='index')\n",
    "df.plot(kind='bar', rot=45)"
   ]
  },
  {
   "cell_type": "code",
   "execution_count": 16,
   "id": "125909a2",
   "metadata": {},
   "outputs": [
    {
     "name": "stdout",
     "output_type": "stream",
     "text": [
      "['_get_soda_resource', 'cachedataset', 'get', 'getbyucd', 'getbyutype', 'getdataformat', 'getdatalink', 'getdataobj', 'getdataset', 'getdataurl', 'items', 'keys', 'make_dataset_filename', 'processed', 'suggest_dataset_basename', 'suggest_extension', 'values']\n"
     ]
    }
   ],
   "source": [
    "type(res[0])\n",
    "methods = [attr for attr in dir(res[0]) if callable(getattr(res[0], attr)) and not attr.startswith('__')]\n",
    "print(methods)\n",
    "# res[0]\n",
    "# for xx in res:\n",
    "#     print(xx)"
   ]
  },
  {
   "cell_type": "code",
   "execution_count": 25,
   "id": "5ae507a4",
   "metadata": {},
   "outputs": [
    {
     "name": "stdout",
     "output_type": "stream",
     "text": [
      "['_findinfos', '_findresultsresource', '_findresultstable', '_findstatus', '_findstatusinfo', '_from_result_url', 'broadcast_samp', 'cursor', 'fieldname_with_ucd', 'fieldname_with_utype', 'from_result_url', 'get_adhocservice_by_id', 'get_adhocservice_by_ivoid', 'getcolumn', 'getdesc', 'getrecord', 'getvalue', 'iter_adhocservices', 'iter_datalinks', 'to_qtable', 'to_table']\n"
     ]
    },
    {
     "name": "stderr",
     "output_type": "stream",
     "text": [
      "WARNING: AstropyDeprecationWarning: Using the table property is deprecated. Please use the to_table() instead. [pyvo.dal.query]\n"
     ]
    }
   ],
   "source": [
    "methods = [attr for attr in dir(res) if callable(getattr(res, attr)) and not attr.startswith('__')]\n",
    "print(methods)\n",
    "# type(res)"
   ]
  },
  {
   "cell_type": "code",
   "execution_count": 28,
   "id": "dda5b6a1",
   "metadata": {},
   "outputs": [
    {
     "data": {
      "text/html": [
       "<div>\n",
       "<style scoped>\n",
       "    .dataframe tbody tr th:only-of-type {\n",
       "        vertical-align: middle;\n",
       "    }\n",
       "\n",
       "    .dataframe tbody tr th {\n",
       "        vertical-align: top;\n",
       "    }\n",
       "\n",
       "    .dataframe thead th {\n",
       "        text-align: right;\n",
       "    }\n",
       "</style>\n",
       "<table border=\"1\" class=\"dataframe\">\n",
       "  <thead>\n",
       "    <tr style=\"text-align: right;\">\n",
       "      <th></th>\n",
       "      <th>abmaglim</th>\n",
       "      <th>access_estsize</th>\n",
       "      <th>access_format</th>\n",
       "      <th>access_url</th>\n",
       "      <th>bib_reference</th>\n",
       "      <th>calib_level</th>\n",
       "      <th>dataproduct_subtype</th>\n",
       "      <th>dataproduct_type</th>\n",
       "      <th>dp_id</th>\n",
       "      <th>em_max</th>\n",
       "      <th>...</th>\n",
       "      <th>s_xel1</th>\n",
       "      <th>s_xel2</th>\n",
       "      <th>snr</th>\n",
       "      <th>strehl</th>\n",
       "      <th>t_exptime</th>\n",
       "      <th>t_max</th>\n",
       "      <th>t_min</th>\n",
       "      <th>t_resolution</th>\n",
       "      <th>t_xel</th>\n",
       "      <th>target_name</th>\n",
       "    </tr>\n",
       "  </thead>\n",
       "  <tbody>\n",
       "    <tr>\n",
       "      <th>380</th>\n",
       "      <td>NaN</td>\n",
       "      <td>13440</td>\n",
       "      <td>application/x-votable+xml;content=datalink</td>\n",
       "      <td>http://archive.eso.org/datalink/links?ID=ivo:/...</td>\n",
       "      <td></td>\n",
       "      <td>2</td>\n",
       "      <td></td>\n",
       "      <td>spectrum</td>\n",
       "      <td>ADP.2020-06-09T06:35:43.457</td>\n",
       "      <td>9.463940e-07</td>\n",
       "      <td>...</td>\n",
       "      <td>&lt;NA&gt;</td>\n",
       "      <td>&lt;NA&gt;</td>\n",
       "      <td>153.4</td>\n",
       "      <td>NaN</td>\n",
       "      <td>7199.997</td>\n",
       "      <td>56082.139775</td>\n",
       "      <td>56082.054678</td>\n",
       "      <td>7352.384256</td>\n",
       "      <td>&lt;NA&gt;</td>\n",
       "      <td>TOO_BulgeDwarf</td>\n",
       "    </tr>\n",
       "    <tr>\n",
       "      <th>415</th>\n",
       "      <td>NaN</td>\n",
       "      <td>6180</td>\n",
       "      <td>application/x-votable+xml;content=datalink</td>\n",
       "      <td>http://archive.eso.org/datalink/links?ID=ivo:/...</td>\n",
       "      <td></td>\n",
       "      <td>2</td>\n",
       "      <td></td>\n",
       "      <td>spectrum</td>\n",
       "      <td>ADP.2020-06-09T06:35:43.500</td>\n",
       "      <td>4.999730e-07</td>\n",
       "      <td>...</td>\n",
       "      <td>&lt;NA&gt;</td>\n",
       "      <td>&lt;NA&gt;</td>\n",
       "      <td>49.4</td>\n",
       "      <td>NaN</td>\n",
       "      <td>7200.004</td>\n",
       "      <td>56082.139785</td>\n",
       "      <td>56082.054790</td>\n",
       "      <td>7343.599104</td>\n",
       "      <td>&lt;NA&gt;</td>\n",
       "      <td>TOO_BulgeDwarf</td>\n",
       "    </tr>\n",
       "  </tbody>\n",
       "</table>\n",
       "<p>2 rows × 54 columns</p>\n",
       "</div>"
      ],
      "text/plain": [
       "     abmaglim  access_estsize                               access_format  \\\n",
       "380       NaN           13440  application/x-votable+xml;content=datalink   \n",
       "415       NaN            6180  application/x-votable+xml;content=datalink   \n",
       "\n",
       "                                            access_url bib_reference  \\\n",
       "380  http://archive.eso.org/datalink/links?ID=ivo:/...                 \n",
       "415  http://archive.eso.org/datalink/links?ID=ivo:/...                 \n",
       "\n",
       "     calib_level dataproduct_subtype dataproduct_type  \\\n",
       "380            2                             spectrum   \n",
       "415            2                             spectrum   \n",
       "\n",
       "                           dp_id        em_max  ...  s_xel1  s_xel2    snr  \\\n",
       "380  ADP.2020-06-09T06:35:43.457  9.463940e-07  ...    <NA>    <NA>  153.4   \n",
       "415  ADP.2020-06-09T06:35:43.500  4.999730e-07  ...    <NA>    <NA>   49.4   \n",
       "\n",
       "    strehl t_exptime         t_max         t_min t_resolution t_xel  \\\n",
       "380    NaN  7199.997  56082.139775  56082.054678  7352.384256  <NA>   \n",
       "415    NaN  7200.004  56082.139785  56082.054790  7343.599104  <NA>   \n",
       "\n",
       "        target_name  \n",
       "380  TOO_BulgeDwarf  \n",
       "415  TOO_BulgeDwarf  \n",
       "\n",
       "[2 rows x 54 columns]"
      ]
     },
     "execution_count": 28,
     "metadata": {},
     "output_type": "execute_result"
    }
   ],
   "source": [
    "df = res.to_table().to_pandas()\n",
    "df_cut = df[df[\"dataproduct_type\"] == \"spectrum\"]\n",
    "df_cut"
   ]
  },
  {
   "cell_type": "code",
   "execution_count": 33,
   "id": "8d3b0110",
   "metadata": {},
   "outputs": [
    {
     "data": {
      "text/plain": [
       "380    http://archive.eso.org/datalink/links?ID=ivo:/...\n",
       "415    http://archive.eso.org/datalink/links?ID=ivo:/...\n",
       "Name: access_url, dtype: object"
      ]
     },
     "execution_count": 33,
     "metadata": {},
     "output_type": "execute_result"
    }
   ],
   "source": [
    "df_cut[\"access_url\"]"
   ]
  },
  {
   "cell_type": "code",
   "execution_count": 35,
   "id": "209bb093",
   "metadata": {},
   "outputs": [
    {
     "data": {
      "text/plain": [
       "'http://archive.eso.org/datalink/links?ID=ivo://eso.org/ID?ADP.2020-06-09T06:35:43.457'"
      ]
     },
     "execution_count": 35,
     "metadata": {},
     "output_type": "execute_result"
    }
   ],
   "source": [
    "df_cut.iloc[0][\"access_url\"]"
   ]
  },
  {
   "cell_type": "code",
   "execution_count": null,
   "id": "4b54a916",
   "metadata": {},
   "outputs": [
    {
     "data": {
      "text/plain": [
       "'http://archive.eso.org/datalink/links?ID=ivo://eso.org/ID?ADP.2014-11-12T16:17:25.160'"
      ]
     },
     "execution_count": 31,
     "metadata": {},
     "output_type": "execute_result"
    }
   ],
   "source": [
    "# df[\"access_url\"][0]"
   ]
  },
  {
   "cell_type": "code",
   "execution_count": 36,
   "id": "49d37f83",
   "metadata": {},
   "outputs": [
    {
     "name": "stdout",
     "output_type": "stream",
     "text": [
      "*   Trying 134.171.46.246:80...\n",
      "* Connected to archive.eso.org (134.171.46.246) port 80 (#0)\n",
      "> GET /datalink/links?ID=ivo://eso.org/ID?ADP.2014-11-12T16:17:25.160 HTTP/1.1\n",
      "> Host: archive.eso.org\n",
      "> User-Agent: curl/8.1.1\n",
      "> Accept: */*\n",
      "> \n",
      "< HTTP/1.1 200 \n",
      "< Date: Mon, 15 Sep 2025 01:17:47 GMT\n",
      "< Server: ESO/DatalinkServer-1.0\n",
      "< Vary: Origin,Access-Control-Request-Method,Access-Control-Request-Headers\n",
      "< X-Content-Type-Options: nosniff\n",
      "< X-XSS-Protection: 1; mode=block\n",
      "< Cache-Control: no-cache, no-store, max-age=0, must-revalidate\n",
      "< Pragma: no-cache\n",
      "< Expires: 0\n",
      "< X-Frame-Options: DENY\n",
      "< Content-Type: application/x-votable+xml;content=datalink\n",
      "< Content-Length: 4435\n",
      "< \n",
      "<?xml version=\"1.0\" encoding=\"utf-8\"?>\n",
      "<VOTABLE version=\"1.3\" xmlns:xsi=\"http://www.w3.org/2001/XMLSchema-instance\" xmlns=\"http://www.ivoa.net/xml/VOTable/v1.3\">\n",
      "  <RESOURCE type=\"results\">\n",
      "    <TABLE>\n",
      "      <INFO name=\"QUERY_STATUS\" value=\"OK\" />\n",
      "      <FIELD name=\"ID\" datatype=\"char\" ucd=\"meta.id;meta.main\" arraysize=\"*\" />\n",
      "      <FIELD name=\"access_url\" datatype=\"char\" ucd=\"meta.ref.url\" arraysize=\"*\" />\n",
      "      <FIELD name=\"service_def\" datatype=\"char\" ucd=\"meta.ref\" arraysize=\"*\" />\n",
      "      <FIELD name=\"error_message\" datatype=\"char\" ucd=\"meta.code.error\" arraysize=\"*\" />\n",
      "      <FIELD name=\"semantics\" datatype=\"char\" ucd=\"meta.code\" arraysize=\"*\" />\n",
      "      <FIELD name=\"description\" datatype=\"char\" ucd=\"meta.note\" arraysize=\"*\" />\n",
      "      <FIELD name=\"content_type\" datatype=\"char\" ucd=\"meta.code.mime\" arraysize=\"*\" />\n",
      "      <FIELD name=\"content_length\" datatype=\"long\" ucd=\"phys.size;meta.file\" unit=\"byte\" />\n",
      "      <FIELD name=\"eso_origfile\" datatype=\"char\" ucd=\"meta.id;meta.file\" arraysize=\"*\" />\n",
      "      <FIELD name=\"eso_category\" datatype=\"char\" ucd=\"meta.code.class;meta.dataset\" arraysize=\"*\" />\n",
      "      <FIELD name=\"eso_datalink\" datatype=\"char\" ucd=\"meta.ref.url\" arraysize=\"*\" />\n",
      "      <DATA>\n",
      "        <TABLEDATA>\n",
      "          <TR>\n",
      "            <TD>ivo://eso.org/ID?ADP.2014-11-12T16:17:25.160</TD>\n",
      "            <TD><![CDATA[https://dataportal.eso.org/dataPortal/file/ADP.2014-11-12T16:17:25.160]]></TD>\n",
      "            <TD />\n",
      "            <TD />\n",
      "            <TD>#this</TD>\n",
      "            <TD>Requested file</TD>\n",
      "            <TD>application/fits</TD>\n",
      "            <TD>306270720</TD>\n",
      "            <TD>v20110802_00676_st_tl_cat.fits</TD>\n",
      "            <TD>SCIENCE.SRCTBL</TD>\n",
      "            <TD>https://archive.eso.org/datalink/links?ID=ivo://eso.org/ID?ADP.2014-11-12T16:17:25.160</TD>\n",
      "          </TR>\n",
      "          <TR>\n",
      "            <TD>ivo://eso.org/ID?ADP.2014-11-12T16:17:25.160</TD>\n",
      "            <TD />\n",
      "            <TD>ADP.2014-11-12T16:17:25.160_soda</TD>\n",
      "            <TD />\n",
      "            <TD>#cutout</TD>\n",
      "            <TD>Cutout of #this (SODA-sync)</TD>\n",
      "            <TD>application/fits</TD>\n",
      "            <TD />\n",
      "            <TD />\n",
      "            <TD />\n",
      "            <TD />\n",
      "          </TR>\n",
      "          <TR>\n",
      "            <TD>ivo://eso.org/ID?ADP.2014-11-12T16:17:25.160</TD>\n",
      "            <TD><![CDATA[https://dataportal.eso.org/dataPortal/file/ADP.2014-11-12T16:17:29.753]]></TD>\n",
      "            <TD />\n",
      "            <TD />\n",
      "            <TD>#progenitor</TD>\n",
      "            <TD>File used to generate the requested file (processing provenance)</TD>\n",
      "            <TD>application/x-fits-hcompress</TD>\n",
      "            <TD>225731520</TD>\n",
      "            <TD>v20110802_00676_st_tl.fits.fz</TD>\n",
      "            <TD>SCIENCE.IMAGE</TD>\n",
      "            <TD>https://archive.eso.org/datalink/links?ID=ivo://eso.org/ID?ADP.2014-11-12T16:17:29.753</TD>\n",
      "          </TR>\n",
      "          <TR>\n",
      "            <TD>ivo://eso.org/ID?ADP.2014-11-12T16:17:25.160</TD>\n",
      "            <TD><![CDATA[https://archive.eso.org/datalink/links?ID=ivo://eso.org/ID?ADP.2014-11-12T16:17:25.160&eso_download=data_documentation]]></TD>\n",
      "            <TD />\n",
      "            <TD />\n",
      "            <TD>http://archive.eso.org/rdf/datalink/eso#data_documentation</TD>\n",
      "            <TD>Release description of the collection the requested file belongs to</TD>\n",
      "            <TD>application/pdf</TD>\n",
      "            <TD>1000000</TD>\n",
      "            <TD />\n",
      "            <TD />\n",
      "            <TD />\n",
      "          </TR>\n",
      "        </TABLEDATA>\n",
      "      </DATA>\n",
      "    </TABLE>\n",
      "  </RESOURCE>\n",
      "  <RESOURCE ID=\"ADP.2014-11-12T16:17:25.160_soda\" type=\"meta\" utype=\"adhoc:service\">\n",
      "    <PARAM arraysize=\"*\" datatype=\"char\" name=\"accessURL\" ucd=\"meta.ref.url\" value=\"https://dataportal.eso.org/dataPortal/soda/sync\" />\n",
      "    <PARAM arraysize=\"*\" datatype=\"char\" name=\"standardID\" value=\"ivo://ivoa.net/std/SODA#sync-1.0\" />\n",
      "    <GROUP name=\"inputParams\">\n",
      "      <PARAM arraysize=\"*\" datatype=\"char\" name=\"ID\" ucd=\"meta.id;meta.dataset\" value=\"ivo://eso.org/ID?ADP.2014-11-12T16:17:25.160\">\n",
      "        <DESCRIPTION>The publisher DID of the dataset of interest</DESCRIPTION>\n",
      "      </PARAM>\n",
      "      <PARAM arraysize=\"3\" datatype=\"double\" name=\"CIRCLE\" ucd=\"pos.outline;obs\" unit=\"deg\" value=\"\" xtype=\"circle\">\n",
      "        <DESCRIPTION>A circle (as a flattened array of ra, dec, radius) that should be covered by the cutout.</DESCRIPTION>\n",
      "        <VALUES>\n",
      "          <MAX value=\"268.3657213072854 -32.222611084886594 2.681507\" />\n",
      "        </VALUES>\n",
      "      </PARAM>\n",
      "    </GROUP>\n",
      "  </RESOURCE>\n",
      "* Connection #0 to host archive.eso.org left intact\n",
      "</VOTABLE>"
     ]
    }
   ],
   "source": [
    "!curl -v \"http://archive.eso.org/datalink/links?ID=ivo://eso.org/ID?ADP.2014-11-12T16:17:25.160\""
   ]
  },
  {
   "cell_type": "code",
   "execution_count": 22,
   "id": "8b7965b8",
   "metadata": {},
   "outputs": [
    {
     "data": {
      "text/plain": [
       "<DALResultsTable length=4>\n",
       "                     ID                      ...\n",
       "                                             ...\n",
       "                   object                    ...\n",
       "-------------------------------------------- ...\n",
       "ivo://eso.org/ID?ADP.2014-11-12T16:17:25.160 ...\n",
       "ivo://eso.org/ID?ADP.2014-11-12T16:17:25.160 ...\n",
       "ivo://eso.org/ID?ADP.2014-11-12T16:17:25.160 ...\n",
       "ivo://eso.org/ID?ADP.2014-11-12T16:17:25.160 ..."
      ]
     },
     "execution_count": 22,
     "metadata": {},
     "output_type": "execute_result"
    }
   ],
   "source": [
    "res[0].getdataobj()"
   ]
  },
  {
   "cell_type": "code",
   "execution_count": null,
   "id": "3c8128e9",
   "metadata": {},
   "outputs": [],
   "source": []
  }
 ],
 "metadata": {
  "kernelspec": {
   "display_name": "base",
   "language": "python",
   "name": "python3"
  },
  "language_info": {
   "codemirror_mode": {
    "name": "ipython",
    "version": 3
   },
   "file_extension": ".py",
   "mimetype": "text/x-python",
   "name": "python",
   "nbconvert_exporter": "python",
   "pygments_lexer": "ipython3",
   "version": "3.11.4"
  }
 },
 "nbformat": 4,
 "nbformat_minor": 5
}
