{
 "cells": [
  {
   "cell_type": "code",
   "execution_count": 4,
   "id": "19817584",
   "metadata": {},
   "outputs": [
    {
     "name": "stdout",
     "output_type": "stream",
     "text": [
      "Error scanning table: Invalid ProjectionExpression: Attribute name is a reserved keyword; reserved keyword: data\n"
     ]
    }
   ],
   "source": [
    "import boto3\n",
    "from botocore.exceptions import ClientError\n",
    "\n",
    "# Initialize DynamoDB resource\n",
    "dynamodb = boto3.resource('dynamodb', region_name='us-east-1')  # Change region\n",
    "\n",
    "# Reference your table\n",
    "table = dynamodb.Table('nova-ingest-ads-queue')\n",
    "col_name = \"data\"\n",
    "\n",
    "try:\n",
    "    # Scan the table but only return the specific column (attribute)\n",
    "    response = table.scan(\n",
    "        ProjectionExpression=col_name  # Replace with your attribute\n",
    "    )\n",
    "\n",
    "    # Extract values\n",
    "    items = response.get('Items', [])\n",
    "    values = [item.get(col_name) for item in items]\n",
    "\n",
    "    print(\"Fetched values:\", values)\n",
    "\n",
    "    # Handle pagination (DynamoDB Scan can return partial results)\n",
    "    while 'LastEvaluatedKey' in response:\n",
    "        response = table.scan(\n",
    "            ProjectionExpression=col_name,\n",
    "            ExclusiveStartKey=response['LastEvaluatedKey']\n",
    "        )\n",
    "        items = response.get('Items', [])\n",
    "        values.extend(item.get(col_name) for item in items)\n",
    "\n",
    "    print(\"All values:\", values)\n",
    "\n",
    "except ClientError as e:\n",
    "    print(f\"Error scanning table: {e.response['Error']['Message']}\")\n"
   ]
  },
  {
   "cell_type": "code",
   "execution_count": 7,
   "id": "96142052",
   "metadata": {},
   "outputs": [],
   "source": [
    "from datetime import date, datetime, timezone\n",
    "\n",
    "x = datetime.now(timezone.utc).isoformat()"
   ]
  },
  {
   "cell_type": "code",
   "execution_count": 8,
   "id": "7384a7ea",
   "metadata": {},
   "outputs": [
    {
     "data": {
      "text/plain": [
       "str"
      ]
     },
     "execution_count": 8,
     "metadata": {},
     "output_type": "execute_result"
    }
   ],
   "source": [
    "type(x)"
   ]
  },
  {
   "cell_type": "code",
   "execution_count": null,
   "id": "54fac120",
   "metadata": {},
   "outputs": [
    {
     "name": "stdout",
     "output_type": "stream",
     "text": [
      "bibcode %r did not match ADS_BIBCODE_RE; keeping as-is 2021ITNS...68.. 815C\n"
     ]
    },
    {
     "data": {
      "text/plain": [
       "'2021ITNS...68.. 815C'"
      ]
     },
     "execution_count": 11,
     "metadata": {},
     "output_type": "execute_result"
    }
   ],
   "source": [
    "import re\n",
    "\n",
    "ADS_BIBCODE_RE = re.compile(r\"^\\S{4}\\S*$\")  # (placeholder) keep loose unless you want strict ADS format\n",
    "\n",
    "\n",
    "# bibcode = \"2022yCat..22570049C\"\n",
    "bibcode = \"2021ITNS...815C\" \n",
    "def _clean_bibcode(cls, v):\n",
    "    if v is None:\n",
    "        raise ValueError(\"bibcode is required.\")\n",
    "    s = str(v).strip()\n",
    "    if not s:\n",
    "        raise ValueError(\"bibcode cannot be empty or whitespace.\")\n",
    "    # keep pattern loose unless you want to enforce the exact ADS bibcode grammar\n",
    "    if not ADS_BIBCODE_RE.match(s):\n",
    "        print(\"bibcode %r did not match ADS_BIBCODE_RE; keeping as-is\", s)\n",
    "        # logger.info(\"bibcode %r did not match ADS_BIBCODE_RE; keeping as-is\", s)\n",
    "    return s\n",
    "\n",
    "_clean_bibcode(None, bibcode)"
   ]
  },
  {
   "cell_type": "code",
   "execution_count": null,
   "id": "53b4b1d5",
   "metadata": {},
   "outputs": [],
   "source": []
  }
 ],
 "metadata": {
  "kernelspec": {
   "display_name": "base",
   "language": "python",
   "name": "python3"
  },
  "language_info": {
   "codemirror_mode": {
    "name": "ipython",
    "version": 3
   },
   "file_extension": ".py",
   "mimetype": "text/x-python",
   "name": "python",
   "nbconvert_exporter": "python",
   "pygments_lexer": "ipython3",
   "version": "3.11.4"
  }
 },
 "nbformat": 4,
 "nbformat_minor": 5
}
