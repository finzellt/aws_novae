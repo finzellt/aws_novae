{
 "cells": [
  {
   "cell_type": "code",
   "execution_count": 4,
   "id": "19817584",
   "metadata": {},
   "outputs": [
    {
     "name": "stdout",
     "output_type": "stream",
     "text": [
      "Error scanning table: Invalid ProjectionExpression: Attribute name is a reserved keyword; reserved keyword: data\n"
     ]
    }
   ],
   "source": [
    "import boto3\n",
    "from botocore.exceptions import ClientError\n",
    "\n",
    "# Initialize DynamoDB resource\n",
    "dynamodb = boto3.resource('dynamodb', region_name='us-east-1')  # Change region\n",
    "\n",
    "# Reference your table\n",
    "table = dynamodb.Table('nova-ingest-ads-queue')\n",
    "col_name = \"data\"\n",
    "\n",
    "try:\n",
    "    # Scan the table but only return the specific column (attribute)\n",
    "    response = table.scan(\n",
    "        ProjectionExpression=col_name  # Replace with your attribute\n",
    "    )\n",
    "\n",
    "    # Extract values\n",
    "    items = response.get('Items', [])\n",
    "    values = [item.get(col_name) for item in items]\n",
    "\n",
    "    print(\"Fetched values:\", values)\n",
    "\n",
    "    # Handle pagination (DynamoDB Scan can return partial results)\n",
    "    while 'LastEvaluatedKey' in response:\n",
    "        response = table.scan(\n",
    "            ProjectionExpression=col_name,\n",
    "            ExclusiveStartKey=response['LastEvaluatedKey']\n",
    "        )\n",
    "        items = response.get('Items', [])\n",
    "        values.extend(item.get(col_name) for item in items)\n",
    "\n",
    "    print(\"All values:\", values)\n",
    "\n",
    "except ClientError as e:\n",
    "    print(f\"Error scanning table: {e.response['Error']['Message']}\")\n"
   ]
  },
  {
   "cell_type": "code",
   "execution_count": 7,
   "id": "96142052",
   "metadata": {},
   "outputs": [],
   "source": [
    "from datetime import date, datetime, timezone\n",
    "\n",
    "x = datetime.now(timezone.utc).isoformat()"
   ]
  },
  {
   "cell_type": "code",
   "execution_count": 8,
   "id": "7384a7ea",
   "metadata": {},
   "outputs": [
    {
     "data": {
      "text/plain": [
       "str"
      ]
     },
     "execution_count": 8,
     "metadata": {},
     "output_type": "execute_result"
    }
   ],
   "source": [
    "type(x)"
   ]
  },
  {
   "cell_type": "code",
   "execution_count": 12,
   "id": "54fac120",
   "metadata": {},
   "outputs": [
    {
     "data": {
      "text/plain": [
       "'2021ITNS...815C'"
      ]
     },
     "execution_count": 12,
     "metadata": {},
     "output_type": "execute_result"
    }
   ],
   "source": [
    "import re\n",
    "\n",
    "ADS_BIBCODE_RE = re.compile(r\"^\\S{4}\\S*$\")  # (placeholder) keep loose unless you want strict ADS format\n",
    "\n",
    "\n",
    "# bibcode = \"2022yCat..22570049C\"\n",
    "bibcode = \"2021ITNS...815C\" \n",
    "def _clean_bibcode(cls, v):\n",
    "    if v is None:\n",
    "        raise ValueError(\"bibcode is required.\")\n",
    "    s = str(v).strip()\n",
    "    if not s:\n",
    "        raise ValueError(\"bibcode cannot be empty or whitespace.\")\n",
    "    # keep pattern loose unless you want to enforce the exact ADS bibcode grammar\n",
    "    if not ADS_BIBCODE_RE.match(s):\n",
    "        print(\"bibcode %r did not match ADS_BIBCODE_RE; keeping as-is\", s)\n",
    "        # logger.info(\"bibcode %r did not match ADS_BIBCODE_RE; keeping as-is\", s)\n",
    "    return s\n",
    "\n",
    "_clean_bibcode(None, bibcode)"
   ]
  },
  {
   "cell_type": "code",
   "execution_count": 13,
   "id": "53b4b1d5",
   "metadata": {},
   "outputs": [
    {
     "name": "stderr",
     "output_type": "stream",
     "text": [
      "/var/folders/p0/kzl82ys143d1wd2kfj24r3k0000xnp/T/ipykernel_6947/3607682431.py:4: DeprecationWarning: 'ra(d)' has been renamed 'ra'. You'll see it appearing with its new name in the output table\n",
      "  _simbad.add_votable_fields(\"ra(d)\", \"dec(d)\", \"otypes\")\n",
      "/var/folders/p0/kzl82ys143d1wd2kfj24r3k0000xnp/T/ipykernel_6947/3607682431.py:4: DeprecationWarning: 'dec(d)' has been renamed 'dec'. You'll see it appearing with its new name in the output table\n",
      "  _simbad.add_votable_fields(\"ra(d)\", \"dec(d)\", \"otypes\")\n"
     ]
    },
    {
     "data": {
      "text/html": [
       "<div><i>Table length=4</i>\n",
       "<table id=\"table4716080848\" class=\"table-striped table-bordered table-condensed\">\n",
       "<thead><tr><th>main_id</th><th>ra</th><th>dec</th><th>coo_err_maj</th><th>coo_err_min</th><th>coo_err_angle</th><th>coo_wavelength</th><th>coo_bibcode</th><th>otypes.origin</th><th>otypes.otype</th><th>otypes.otype_txt</th><th>matched_id</th></tr></thead>\n",
       "<thead><tr><th></th><th>deg</th><th>deg</th><th>mas</th><th>mas</th><th>deg</th><th></th><th></th><th></th><th></th><th></th><th></th></tr></thead>\n",
       "<thead><tr><th>object</th><th>float64</th><th>float64</th><th>float32</th><th>float32</th><th>int16</th><th>str1</th><th>object</th><th>object</th><th>object</th><th>object</th><th>object</th></tr></thead>\n",
       "<tr><td>V* V1324 Sco</td><td>267.72462243384</td><td>-32.62252526723</td><td>4.4393</td><td>3.6886</td><td>90</td><td>O</td><td>2020yCat.1350....0G</td><td>from id Gaia DR2 4043499439062100096</td><td>*</td><td>*</td><td>V* V1324 Sco</td></tr>\n",
       "<tr><td>V* V1324 Sco</td><td>267.72462243384</td><td>-32.62252526723</td><td>4.4393</td><td>3.6886</td><td>90</td><td>O</td><td>2020yCat.1350....0G</td><td>from bibcode ; bibcode=2020MNRAS.492L..40A</td><td>CV*</td><td>CV*</td><td>V* V1324 Sco</td></tr>\n",
       "<tr><td>V* V1324 Sco</td><td>267.72462243384</td><td>-32.62252526723</td><td>4.4393</td><td>3.6886</td><td>90</td><td>O</td><td>2020yCat.1350....0G</td><td>from id NOVA Sco 2012 ; bibcode=2017ARep...61...80S</td><td>No*</td><td>No*</td><td>V* V1324 Sco</td></tr>\n",
       "<tr><td>V* V1324 Sco</td><td>267.72462243384</td><td>-32.62252526723</td><td>4.4393</td><td>3.6886</td><td>90</td><td>O</td><td>2020yCat.1350....0G</td><td>from id V* V1324 Sco</td><td>V*</td><td>V*</td><td>V* V1324 Sco</td></tr>\n",
       "</table></div>"
      ],
      "text/plain": [
       "<Table length=4>\n",
       "  main_id           ra             dec       ... otypes.otype_txt  matched_id \n",
       "                   deg             deg       ...                              \n",
       "   object        float64         float64     ...      object         object   \n",
       "------------ --------------- --------------- ... ---------------- ------------\n",
       "V* V1324 Sco 267.72462243384 -32.62252526723 ...                * V* V1324 Sco\n",
       "V* V1324 Sco 267.72462243384 -32.62252526723 ...              CV* V* V1324 Sco\n",
       "V* V1324 Sco 267.72462243384 -32.62252526723 ...              No* V* V1324 Sco\n",
       "V* V1324 Sco 267.72462243384 -32.62252526723 ...               V* V* V1324 Sco"
      ]
     },
     "execution_count": 13,
     "metadata": {},
     "output_type": "execute_result"
    }
   ],
   "source": [
    "from astroquery.simbad import Simbad\n",
    "\n",
    "_simbad = Simbad()\n",
    "_simbad.add_votable_fields(\"ra(d)\", \"dec(d)\", \"otypes\")\n",
    "\n",
    "result = _simbad.query_object(\"V1324 Sco\")\n",
    "result"
   ]
  },
  {
   "cell_type": "code",
   "execution_count": 14,
   "id": "a59dc7f0",
   "metadata": {},
   "outputs": [
    {
     "data": {
      "text/plain": [
       "['main_id',\n",
       " 'ra',\n",
       " 'dec',\n",
       " 'coo_err_maj',\n",
       " 'coo_err_min',\n",
       " 'coo_err_angle',\n",
       " 'coo_wavelength',\n",
       " 'coo_bibcode',\n",
       " 'otypes.origin',\n",
       " 'otypes.otype',\n",
       " 'otypes.otype_txt',\n",
       " 'matched_id']"
      ]
     },
     "execution_count": 14,
     "metadata": {},
     "output_type": "execute_result"
    }
   ],
   "source": [
    "result.colnames"
   ]
  },
  {
   "cell_type": "code",
   "execution_count": 16,
   "id": "2b138ccb",
   "metadata": {},
   "outputs": [
    {
     "data": {
      "text/plain": [
       "'206.265987'"
      ]
     },
     "execution_count": 16,
     "metadata": {},
     "output_type": "execute_result"
    }
   ],
   "source": [
    "def _round_coord(x: float, places: int = 6) -> str:\n",
    "    if x is None:\n",
    "        return None\n",
    "    # Gentle rounding; avoid \"-0.0\"\n",
    "    r = round(float(x), places)\n",
    "    r = 0.0 if r == -0.0 else r\n",
    "    return f\"{r:.{places}f}\"\n",
    "\n",
    "_round_coord(206.265987111)"
   ]
  },
  {
   "cell_type": "code",
   "execution_count": 17,
   "id": "09501a65",
   "metadata": {},
   "outputs": [
    {
     "data": {
      "text/plain": [
       "'bibcode,bibstem,doctype,property,identifier,data,date,entry_date,data,author,abstract,title'"
      ]
     },
     "execution_count": 17,
     "metadata": {},
     "output_type": "execute_result"
    }
   ],
   "source": [
    "ADS_FIELDS = [\n",
    "    \"bibcode\",\"bibstem\",\"doctype\",\"property\",\"identifier\",\"data\",\n",
    "    \"date\",\"entry_date\",\"data\",\"author\",\"abstract\",\"title\"]\n",
    "\n",
    "x = \",\".join(ADS_FIELDS)\n",
    "x"
   ]
  },
  {
   "cell_type": "code",
   "execution_count": 18,
   "id": "efe21fc1",
   "metadata": {},
   "outputs": [
    {
     "ename": "NameError",
     "evalue": "name '__file__' is not defined",
     "output_type": "error",
     "traceback": [
      "\u001b[0;31m---------------------------------------------------------------------------\u001b[0m",
      "\u001b[0;31mNameError\u001b[0m                                 Traceback (most recent call last)",
      "Cell \u001b[0;32mIn[18], line 11\u001b[0m\n\u001b[1;32m      8\u001b[0m \u001b[38;5;28;01mfrom\u001b[39;00m \u001b[38;5;21;01mpathlib\u001b[39;00m \u001b[38;5;28;01mimport\u001b[39;00m Path\n\u001b[1;32m     10\u001b[0m \u001b[38;5;66;03m# Example: add ../shared to sys.path (relative to current file)\u001b[39;00m\n\u001b[0;32m---> 11\u001b[0m shared_path \u001b[38;5;241m=\u001b[39m Path(\u001b[38;5;18m__file__\u001b[39m)\u001b[38;5;241m.\u001b[39mresolve()\u001b[38;5;241m.\u001b[39mparent\u001b[38;5;241m.\u001b[39mparent\u001b[38;5;241m.\u001b[39mparent \u001b[38;5;241m/\u001b[39m \u001b[38;5;124m\"\u001b[39m\u001b[38;5;124maws_novae/nova-ingest/shared\u001b[39m\u001b[38;5;124m\"\u001b[39m\n\u001b[1;32m     12\u001b[0m sys\u001b[38;5;241m.\u001b[39mpath\u001b[38;5;241m.\u001b[39mappend(\u001b[38;5;28mstr\u001b[39m(shared_path))\n\u001b[1;32m     13\u001b[0m \u001b[38;5;28;01mfrom\u001b[39;00m \u001b[38;5;21;01mnova_schema\u001b[39;00m\u001b[38;5;21;01m.\u001b[39;00m\u001b[38;5;21;01mnova\u001b[39;00m \u001b[38;5;28;01mimport\u001b[39;00m Nova\n",
      "\u001b[0;31mNameError\u001b[0m: name '__file__' is not defined"
     ]
    }
   ],
   "source": [
    "# import logging\n",
    "from typing import Any, Dict, List\n",
    "from pydantic import ValidationError\n",
    "# from nova_schema.nova import Nova\n",
    "# # from nova_schema.harvest import HarvestCandidate\n",
    "# from nova_schema.mapping.ads_mapping import map_ads_response_to_harvest\n",
    "import os,boto3,json,sys\n",
    "from pathlib import Path\n",
    "\n",
    "# Example: add ../shared to sys.path (relative to current file)\n",
    "shared_path = Path(__file__).resolve().parent.parent.parent / \"aws_novae/nova-ingest/shared\"\n",
    "sys.path.append(str(shared_path))\n",
    "from nova_schema.nova import Nova\n",
    "\n",
    "# logger = logging.getLogger(__name__)\n",
    "# logger.setLevel(logging.INFO)\n",
    "\n",
    "ADS_API_URL = os.getenv(\"ADS_API_URL\", \"https://api.adsabs.harvard.edu/v1/search/query\")\n",
    "\n",
    "# # We still request these (to derive OA & heuristics), but won't return the heavy ones in payload\n",
    "ADS_FIELDS = [\n",
    "    \"bibcode\",\"bibstem\",\"doctype\",\"property\",\"identifier\",\"data\",\n",
    "    \"date\",\"entry_date\",\"data\",\"author\",\"abstract\",\"title\"\n",
    "]\n",
    "\n",
    "def _build_ads_query(canonical: Dict[str, Any]) -> Dict[str, Any]:\n",
    "    name = canonical.get(\"primary_name\")\n",
    "    q_parts = []\n",
    "    if name:\n",
    "        q_parts.append(f'object:\"{name}\"')\n",
    "    # Add other heuristics (aliases, coordinates windows) if you like\n",
    "    q = \" AND \".join(q_parts) if q_parts else \"*:*\"\n",
    "    # Request only fields you actually need\n",
    "    fl = \",\".join(ADS_FIELDS)\n",
    "    return {\"q\": q, \"fl\": fl, \"rows\": 50, \"sort\": \"date desc\"}\n",
    "\n",
    "def _ads_request(params: Dict[str, Any]) -> Dict[str, Any]:\n",
    "    import os, requests\n",
    "    token =\"7eYEFm24avvj5QHN9bcNQlCs5AmVulwwxFqYElry\"\n",
    "    headers = {\"Authorization\": f\"Bearer {token}\"} if token else {}\n",
    "    r = requests.get(\"https://api.adsabs.harvard.edu/v1/search/query\",\n",
    "                     params=params, headers=headers, timeout=20)\n",
    "    r.raise_for_status()\n",
    "    return r.json()\n",
    "\n",
    "test_event = \"/Users/tfinzell/Git/aws_novae/nova-ingest/.out_resolve.json\"\n",
    "with open(test_event, \"r\") as f:\n",
    "    event = json.load(f)\n",
    "\n",
    "canonical_in: Dict[str, Any] = event.get(\"canonical\") or {}\n",
    "\n",
    "nova = Nova(**canonical_in)\n",
    "params = _build_ads_query(nova.model_dump(mode=\"json\"))\n",
    "raw = _ads_request(params)"
   ]
  },
  {
   "cell_type": "code",
   "execution_count": null,
   "id": "2f51c21a",
   "metadata": {},
   "outputs": [],
   "source": []
  }
 ],
 "metadata": {
  "kernelspec": {
   "display_name": "base",
   "language": "python",
   "name": "python3"
  },
  "language_info": {
   "codemirror_mode": {
    "name": "ipython",
    "version": 3
   },
   "file_extension": ".py",
   "mimetype": "text/x-python",
   "name": "python",
   "nbconvert_exporter": "python",
   "pygments_lexer": "ipython3",
   "version": "3.11.4"
  }
 },
 "nbformat": 4,
 "nbformat_minor": 5
}
