{
 "cells": [
  {
   "cell_type": "code",
   "execution_count": null,
   "id": "19817584",
   "metadata": {},
   "outputs": [],
   "source": [
    "import boto3\n",
    "from botocore.exceptions import ClientError\n",
    "\n",
    "# Initialize DynamoDB resource\n",
    "dynamodb = boto3.resource('dynamodb', region_name='us-east-1')  # Change region\n",
    "\n",
    "# Reference your table\n",
    "table = dynamodb.Table('nova-ingest-ads-queue')\n",
    "col_name = \"data\"\n",
    "\n",
    "try:\n",
    "    # Scan the table but only return the specific column (attribute)\n",
    "    response = table.scan(\n",
    "        ProjectionExpression=col_name  # Replace with your attribute\n",
    "    )\n",
    "\n",
    "    # Extract values\n",
    "    items = response.get('Items', [])\n",
    "    values = [item.get(col_name) for item in items]\n",
    "\n",
    "    print(\"Fetched values:\", values)\n",
    "\n",
    "    # Handle pagination (DynamoDB Scan can return partial results)\n",
    "    while 'LastEvaluatedKey' in response:\n",
    "        response = table.scan(\n",
    "            ProjectionExpression=col_name,\n",
    "            ExclusiveStartKey=response['LastEvaluatedKey']\n",
    "        )\n",
    "        items = response.get('Items', [])\n",
    "        values.extend(item.get(col_name) for item in items)\n",
    "\n",
    "    print(\"All values:\", values)\n",
    "\n",
    "except ClientError as e:\n",
    "    print(f\"Error scanning table: {e.response['Error']['Message']}\")\n"
   ]
  }
 ],
 "metadata": {
  "language_info": {
   "name": "python"
  }
 },
 "nbformat": 4,
 "nbformat_minor": 5
}
